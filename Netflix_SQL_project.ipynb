{
  "nbformat": 4,
  "nbformat_minor": 0,
  "metadata": {
    "colab": {
      "provenance": [],
      "authorship_tag": "ABX9TyMyUBJKdi1OXaXV0i93q3Dm",
      "include_colab_link": true
    },
    "kernelspec": {
      "name": "python3",
      "display_name": "Python 3"
    },
    "language_info": {
      "name": "python"
    }
  },
  "cells": [
    {
      "cell_type": "markdown",
      "metadata": {
        "id": "view-in-github",
        "colab_type": "text"
      },
      "source": [
        "<a href=\"https://colab.research.google.com/github/Jyoshitha04/SQL/blob/main/Netflix_SQL_project.ipynb\" target=\"_parent\"><img src=\"https://colab.research.google.com/assets/colab-badge.svg\" alt=\"Open In Colab\"/></a>"
      ]
    },
    {
      "cell_type": "markdown",
      "source": [
        "# **Netflix Dataset Analysis**"
      ],
      "metadata": {
        "id": "tOa5HiZzPH-C"
      }
    },
    {
      "cell_type": "code",
      "execution_count": null,
      "metadata": {
        "id": "eOB-5znbXa7T",
        "colab": {
          "base_uri": "https://localhost:8080/"
        },
        "outputId": "6a528dc6-9b4a-4160-c4d7-160120b86cb6"
      },
      "outputs": [
        {
          "output_type": "stream",
          "name": "stdout",
          "text": [
            "     show_id     type                  title         director  \\\n",
            "0         s1    Movie   Dick Johnson Is Dead  Kirsten Johnson   \n",
            "1         s2  TV Show          Blood & Water             None   \n",
            "2         s3  TV Show              Ganglands  Julien Leclercq   \n",
            "3         s4  TV Show  Jailbirds New Orleans             None   \n",
            "4         s5  TV Show           Kota Factory             None   \n",
            "...      ...      ...                    ...              ...   \n",
            "8802   s8803    Movie                 Zodiac    David Fincher   \n",
            "8803   s8804  TV Show            Zombie Dumb             None   \n",
            "8804   s8805    Movie             Zombieland  Ruben Fleischer   \n",
            "8805   s8806    Movie                   Zoom     Peter Hewitt   \n",
            "8806   s8807    Movie                 Zubaan      Mozez Singh   \n",
            "\n",
            "                                                   cast        country  \\\n",
            "0                                                  None  United States   \n",
            "1     Ama Qamata, Khosi Ngema, Gail Mabalane, Thaban...   South Africa   \n",
            "2     Sami Bouajila, Tracy Gotoas, Samuel Jouy, Nabi...           None   \n",
            "3                                                  None           None   \n",
            "4     Mayur More, Jitendra Kumar, Ranjan Raj, Alam K...          India   \n",
            "...                                                 ...            ...   \n",
            "8802  Mark Ruffalo, Jake Gyllenhaal, Robert Downey J...  United States   \n",
            "8803                                               None           None   \n",
            "8804  Jesse Eisenberg, Woody Harrelson, Emma Stone, ...  United States   \n",
            "8805  Tim Allen, Courteney Cox, Chevy Chase, Kate Ma...  United States   \n",
            "8806  Vicky Kaushal, Sarah-Jane Dias, Raaghav Chanan...          India   \n",
            "\n",
            "     date_added  release_year rating   duration  \\\n",
            "0     25-Sep-21          2020  PG-13     90 min   \n",
            "1     24-Sep-21          2021  TV-MA  2 Seasons   \n",
            "2     24-Sep-21          2021  TV-MA   1 Season   \n",
            "3     24-Sep-21          2021  TV-MA   1 Season   \n",
            "4     24-Sep-21          2021  TV-MA  2 Seasons   \n",
            "...         ...           ...    ...        ...   \n",
            "8802  20-Nov-19          2007      R    158 min   \n",
            "8803   1-Jul-19          2018  TV-Y7  2 Seasons   \n",
            "8804   1-Nov-19          2009      R     88 min   \n",
            "8805  11-Jan-20          2006     PG     88 min   \n",
            "8806   2-Mar-19          2015  TV-14    111 min   \n",
            "\n",
            "                                              listed_in  \\\n",
            "0                                         Documentaries   \n",
            "1       International TV Shows, TV Dramas, TV Mysteries   \n",
            "2     Crime TV Shows, International TV Shows, TV Act...   \n",
            "3                                Docuseries, Reality TV   \n",
            "4     International TV Shows, Romantic TV Shows, TV ...   \n",
            "...                                                 ...   \n",
            "8802                     Cult Movies, Dramas, Thrillers   \n",
            "8803             Kids' TV, Korean TV Shows, TV Comedies   \n",
            "8804                            Comedies, Horror Movies   \n",
            "8805                 Children & Family Movies, Comedies   \n",
            "8806     Dramas, International Movies, Music & Musicals   \n",
            "\n",
            "                                            description  \n",
            "0     As her father nears the end of his life, filmm...  \n",
            "1     After crossing paths at a party, a Cape Town t...  \n",
            "2     To protect his family from a powerful drug lor...  \n",
            "3     Feuds, flirtations and toilet talk go down amo...  \n",
            "4     In a city of coaching centers known to train I...  \n",
            "...                                                 ...  \n",
            "8802  A political cartoonist, a crime reporter and a...  \n",
            "8803  While living alone in a spooky town, a young g...  \n",
            "8804  Looking to survive in a world taken over by zo...  \n",
            "8805  Dragged from civilian life, a former superhero...  \n",
            "8806  A scrappy but poor boy worms his way into a ty...  \n",
            "\n",
            "[8807 rows x 12 columns]\n"
          ]
        }
      ],
      "source": [
        "import pandas as pd\n",
        "import sqlite3 as sql\n",
        "\n",
        "# Step 1: Load CSV into pandas DataFrame\n",
        "df = pd.read_csv('netflix_titles.csv')\n",
        "\n",
        "# Step 2: Connect to SQLite database (creates the database if it doesn't exist)\n",
        "conn = sql.connect('database_netflix.db')\n",
        "\n",
        "try:\n",
        "    # Step 3: Write the DataFrame to the SQLite database\n",
        "    df.to_sql('netflix_titles', conn, if_exists='replace', index=False)\n",
        "\n",
        "    # Verify: Query the database\n",
        "    result = pd.read_sql('SELECT * FROM netflix_titles', conn)\n",
        "    print(result)\n",
        "\n",
        "except Exception as e:\n",
        "    print(f\"An error occurred: {e}\")\n"
      ]
    },
    {
      "cell_type": "markdown",
      "source": [
        "# **Analysis Queries**"
      ],
      "metadata": {
        "id": "Tb0lxPYokXC8"
      }
    },
    {
      "cell_type": "markdown",
      "source": [
        "# 1. Count the Number of Movies vs TV Shows"
      ],
      "metadata": {
        "id": "2jghTekOk7rF"
      }
    },
    {
      "cell_type": "code",
      "source": [
        "query_1 = '''\n",
        "    SELECT\n",
        "        type,\n",
        "        COUNT(*)\n",
        "    FROM netflix_titles\n",
        "    GROUP BY type;\n",
        "    '''\n",
        "result = pd.read_sql(query_1, conn)\n",
        "print(result)"
      ],
      "metadata": {
        "colab": {
          "base_uri": "https://localhost:8080/"
        },
        "id": "ogAhGpNOk9o2",
        "outputId": "5961de47-a1b6-4668-a93c-b6857f15fe91"
      },
      "execution_count": null,
      "outputs": [
        {
          "output_type": "stream",
          "name": "stdout",
          "text": [
            "      type  COUNT(*)\n",
            "0    Movie      6131\n",
            "1  TV Show      2676\n"
          ]
        }
      ]
    },
    {
      "cell_type": "markdown",
      "source": [
        "# Find the Most Common Rating for Movies and TV Shows"
      ],
      "metadata": {
        "id": "Bs8ENFVIljyX"
      }
    },
    {
      "cell_type": "code",
      "source": [
        "query_2 = '''\n",
        "    WITH RatingCounts AS (\n",
        "        SELECT\n",
        "            type,\n",
        "            rating,\n",
        "            COUNT(*) AS rating_count\n",
        "        FROM netflix_titles\n",
        "        GROUP BY type, rating\n",
        "    ),\n",
        "    RankedRatings AS (\n",
        "        SELECT\n",
        "            type,\n",
        "            rating,\n",
        "            rating_count,\n",
        "            RANK() OVER (PARTITION BY type ORDER BY rating_count DESC) AS rank\n",
        "        FROM RatingCounts\n",
        "    )\n",
        "    SELECT\n",
        "        type,\n",
        "        rating AS most_frequent_rating\n",
        "    FROM RankedRatings\n",
        "    WHERE rank = 1;\n",
        "'''\n",
        "\n",
        "# Execute the second query and print the results\n",
        "result_2 = pd.read_sql(query_2, conn)\n",
        "print(result_2)\n"
      ],
      "metadata": {
        "colab": {
          "base_uri": "https://localhost:8080/"
        },
        "id": "bOR0cbXnk-Iu",
        "outputId": "f2b886cb-30a4-40ad-e2fd-62df8f02a298"
      },
      "execution_count": null,
      "outputs": [
        {
          "output_type": "stream",
          "name": "stdout",
          "text": [
            "      type most_frequent_rating\n",
            "0    Movie                TV-MA\n",
            "1  TV Show                TV-MA\n"
          ]
        }
      ]
    },
    {
      "cell_type": "markdown",
      "source": [
        "# 3. List All Movies Released in a Specific Year (e.g., 2020)"
      ],
      "metadata": {
        "id": "_Hy_K1m_mWco"
      }
    },
    {
      "cell_type": "code",
      "source": [
        "query_3 = '''\n",
        "    SELECT *\n",
        "    FROM netflix_titles\n",
        "    WHERE release_year = 2020;\n",
        "'''\n",
        "result = pd.read_sql(query_3, conn)\n",
        "print(result)"
      ],
      "metadata": {
        "colab": {
          "base_uri": "https://localhost:8080/"
        },
        "id": "avxAuuGek-OV",
        "outputId": "973ad77b-ffab-402e-dcc4-db5320e0b53d"
      },
      "execution_count": null,
      "outputs": [
        {
          "output_type": "stream",
          "name": "stdout",
          "text": [
            "    show_id     type                                              title  \\\n",
            "0        s1    Movie                               Dick Johnson Is Dead   \n",
            "1       s17    Movie  Europe's Most Dangerous Man: Otto Skorzeny in ...   \n",
            "2       s18  TV Show                                    Falsa identidad   \n",
            "3       s33  TV Show                                      Sex Education   \n",
            "4       s35  TV Show                            Tayo and Little Wizards   \n",
            "..      ...      ...                                                ...   \n",
            "948   s5973    Movie                                   #cats_the_mewvie   \n",
            "949   s7595    Movie                 Norm of the North: Family Vacation   \n",
            "950   s8100    Movie                                        Straight Up   \n",
            "951   s8126  TV Show                                        Super Wings   \n",
            "952   s8133  TV Show          Surviving R. Kelly Part II: The Reckoning   \n",
            "\n",
            "                                          director  \\\n",
            "0                                  Kirsten Johnson   \n",
            "1    Pedro de Echave García, Pablo Azorín Williams   \n",
            "2                                             None   \n",
            "3                                             None   \n",
            "4                                             None   \n",
            "..                                             ...   \n",
            "948                               Michael Margolis   \n",
            "949                                   Anthony Bell   \n",
            "950                                  James Sweeney   \n",
            "951                                           None   \n",
            "952                                           None   \n",
            "\n",
            "                                                  cast  \\\n",
            "0                                                 None   \n",
            "1                                                 None   \n",
            "2    Luis Ernesto Franco, Camila Sodi, Sergio Goyri...   \n",
            "3    Asa Butterfield, Gillian Anderson, Ncuti Gatwa...   \n",
            "4    Dami Lee, Jason Lee, Bommie Catherine Han, Jen...   \n",
            "..                                                 ...   \n",
            "948                                               None   \n",
            "949  Andrew Toth, Lisa Durupt, Jonathan Holmes, Pau...   \n",
            "950  James Sweeney, Katie Findlay, Randall Park, Hi...   \n",
            "951  Luca Padovan, Evan Smolin, Junah Jang, Colin C...   \n",
            "952                                           R. Kelly   \n",
            "\n",
            "                               country date_added  release_year rating  \\\n",
            "0                        United States  25-Sep-21          2020  PG-13   \n",
            "1                                 None  22-Sep-21          2020  TV-MA   \n",
            "2                               Mexico  22-Sep-21          2020  TV-MA   \n",
            "3                       United Kingdom  17-Sep-21          2020  TV-MA   \n",
            "4                                 None  17-Sep-21          2020  TV-Y7   \n",
            "..                                 ...        ...           ...    ...   \n",
            "948                             Canada   5-Feb-20          2020  TV-14   \n",
            "949                      United States  25-May-20          2020  TV-Y7   \n",
            "950                      United States  26-Jun-20          2020  TV-MA   \n",
            "951  United States, South Korea, China   1-Dec-20          2020   TV-Y   \n",
            "952                      United States  13-Apr-20          2020  TV-MA   \n",
            "\n",
            "      duration                                          listed_in  \\\n",
            "0       90 min                                      Documentaries   \n",
            "1       67 min                Documentaries, International Movies   \n",
            "2    2 Seasons  Crime TV Shows, Spanish-Language TV Shows, TV ...   \n",
            "3    3 Seasons  British TV Shows, International TV Shows, TV C...   \n",
            "4     1 Season                                           Kids' TV   \n",
            "..         ...                                                ...   \n",
            "948     90 min                Documentaries, International Movies   \n",
            "949     89 min                           Children & Family Movies   \n",
            "950     96 min         Comedies, Independent Movies, LGBTQ Movies   \n",
            "951  3 Seasons                          Kids' TV, Korean TV Shows   \n",
            "952   1 Season                         Crime TV Shows, Docuseries   \n",
            "\n",
            "                                           description  \n",
            "0    As her father nears the end of his life, filmm...  \n",
            "1    Declassified documents reveal the post-WWII li...  \n",
            "2    Strangers Diego and Isabel flee their home in ...  \n",
            "3    Insecure Otis has all the answers when it come...  \n",
            "4    Tayo speeds into an adventure when his friends...  \n",
            "..                                                 ...  \n",
            "948  This pawesome documentary explores how our fel...  \n",
            "949  Stressed by his duties as king and father, Nor...  \n",
            "950  When a gay brainiac with OCD questions his ide...  \n",
            "951  A cheerful jet and his transforming pals striv...  \n",
            "952  As more women come forward with harrowing accu...  \n",
            "\n",
            "[953 rows x 12 columns]\n"
          ]
        }
      ]
    },
    {
      "cell_type": "markdown",
      "source": [
        "# 4. Find the top 5 countries with the most content on Netflix"
      ],
      "metadata": {
        "id": "JY9eBKiP4e_G"
      }
    },
    {
      "cell_type": "code",
      "source": [
        "# First, load the data into pandas from the database\n",
        "df = pd.read_sql('SELECT country FROM netflix_titles WHERE country IS NOT NULL', conn)\n",
        "\n",
        "# Split the 'country' column by commas into multiple rows\n",
        "df['country'] = df['country'].str.split(',')\n",
        "\n",
        "# Explode the list of countries into separate rows\n",
        "df_exploded = df.explode('country')\n",
        "\n",
        "# Trim any leading/trailing whitespace from country names\n",
        "df_exploded['country'] = df_exploded['country'].str.strip()\n",
        "\n",
        "# Group by country and count the occurrences\n",
        "country_counts = df_exploded.groupby('country').size().reset_index(name='total_content')\n",
        "\n",
        "# Sort by total_content in descending order and select the top 5\n",
        "top_5_countries = country_counts.sort_values(by='total_content', ascending=False).head(5)\n",
        "\n",
        "print(top_5_countries)\n"
      ],
      "metadata": {
        "id": "hdBKG5Y2k-Yz",
        "colab": {
          "base_uri": "https://localhost:8080/"
        },
        "outputId": "28ff6274-87d9-4691-ea62-ee9da9a1f785"
      },
      "execution_count": null,
      "outputs": [
        {
          "output_type": "stream",
          "name": "stdout",
          "text": [
            "            country  total_content\n",
            "116   United States           3690\n",
            "46            India           1046\n",
            "115  United Kingdom            806\n",
            "21           Canada            445\n",
            "37           France            393\n"
          ]
        }
      ]
    },
    {
      "cell_type": "markdown",
      "source": [
        "# 5. Identify the longest movie"
      ],
      "metadata": {
        "id": "dzabciQ17f-u"
      }
    },
    {
      "cell_type": "code",
      "source": [
        "query_5 = '''\n",
        "    SELECT\n",
        "        *\n",
        "    FROM netflix_titles\n",
        "    WHERE type = 'Movie'\n",
        "    ORDER BY CAST(substr(duration, 1, instr(duration, ' ') - 1) AS INTEGER) DESC\n",
        "'''\n",
        "\n",
        "# Execute the query and display the result\n",
        "result = pd.read_sql(query_5, conn)\n",
        "print(result)"
      ],
      "metadata": {
        "id": "My4LE3-Zk-cr",
        "colab": {
          "base_uri": "https://localhost:8080/"
        },
        "outputId": "d246fbd1-631c-4545-b8a5-4adc37645b25"
      },
      "execution_count": null,
      "outputs": [
        {
          "output_type": "stream",
          "name": "stdout",
          "text": [
            "     show_id   type                                 title  \\\n",
            "0      s4254  Movie            Black Mirror: Bandersnatch   \n",
            "1       s718  Movie           Headspace: Unwind Your Mind   \n",
            "2      s2492  Movie                The School of Mischief   \n",
            "3      s2488  Movie                        No Longer kids   \n",
            "4      s2485  Movie                    Lock Your Girls In   \n",
            "...      ...    ...                                   ...   \n",
            "6126   s2714  Movie                           Sol Levante   \n",
            "6127   s3778  Movie                                Silent   \n",
            "6128   s5542  Movie                       Louis C.K. 2017   \n",
            "6129   s5795  Movie                 Louis C.K.: Hilarious   \n",
            "6130   s5814  Movie  Louis C.K.: Live at the Comedy Store   \n",
            "\n",
            "                               director  \\\n",
            "0                                  None   \n",
            "1                                  None   \n",
            "2                Houssam El-Din Mustafa   \n",
            "3                       Samir Al Asfory   \n",
            "4                     Fouad El-Mohandes   \n",
            "...                                 ...   \n",
            "6126                       Akira Saitoh   \n",
            "6127  Limbert Fabian, Brandon Oldenburg   \n",
            "6128                         Louis C.K.   \n",
            "6129                         Louis C.K.   \n",
            "6130                         Louis C.K.   \n",
            "\n",
            "                                                   cast        country  \\\n",
            "0     Fionn Whitehead, Will Poulter, Craig Parkinson...  United States   \n",
            "1     Andy Puddicombe, Evelyn Lewis Prieto, Ginger D...           None   \n",
            "2     Suhair El-Babili, Adel Emam, Saeed Saleh, Youn...          Egypt   \n",
            "3     Said Saleh, Hassan Moustafa, Ahmed Zaki, Youne...          Egypt   \n",
            "4     Fouad El-Mohandes, Sanaa Younes, Sherihan, Ahm...           None   \n",
            "...                                                 ...            ...   \n",
            "6126                                               None          Japan   \n",
            "6127                                               None  United States   \n",
            "6128                                         Louis C.K.  United States   \n",
            "6129                                         Louis C.K.  United States   \n",
            "6130                                         Louis C.K.  United States   \n",
            "\n",
            "     date_added  release_year  rating duration  \\\n",
            "0     28-Dec-18          2018   TV-MA  312 min   \n",
            "1     15-Jun-21          2021    TV-G  273 min   \n",
            "2     21-May-20          1973   TV-14  253 min   \n",
            "3     21-May-20          1979   TV-14  237 min   \n",
            "4     21-May-20          1982   TV-PG  233 min   \n",
            "...         ...           ...     ...      ...   \n",
            "6126   2-Apr-20          2020   TV-14    5 min   \n",
            "6127   4-Jun-19          2014    TV-Y    3 min   \n",
            "6128   4-Apr-17          2017  74 min     None   \n",
            "6129  16-Sep-16          2010  84 min     None   \n",
            "6130  15-Aug-16          2015  66 min     None   \n",
            "\n",
            "                                              listed_in  \\\n",
            "0        Dramas, International Movies, Sci-Fi & Fantasy   \n",
            "1                                         Documentaries   \n",
            "2                Comedies, Dramas, International Movies   \n",
            "3                Comedies, Dramas, International Movies   \n",
            "4       Comedies, International Movies, Romantic Movies   \n",
            "...                                                 ...   \n",
            "6126  Action & Adventure, Anime Features, Internatio...   \n",
            "6127         Children & Family Movies, Sci-Fi & Fantasy   \n",
            "6128                                             Movies   \n",
            "6129                                             Movies   \n",
            "6130                                             Movies   \n",
            "\n",
            "                                            description  \n",
            "0     In 1984, a young programmer begins to question...  \n",
            "1     Do you want to relax, meditate or sleep deeply...  \n",
            "2     A high school teacher volunteers to transform ...  \n",
            "3     Hoping to prevent their father from skipping t...  \n",
            "4     A widower believes he must marry off his three...  \n",
            "...                                                 ...  \n",
            "6126  A young warrior and her familiar search for th...  \n",
            "6127  \"Silent\" is an animated short film created by ...  \n",
            "6128  Louis C.K. muses on religion, eternal love, gi...  \n",
            "6129  Emmy-winning comedy writer Louis C.K. brings h...  \n",
            "6130  The comic puts his trademark hilarious/thought...  \n",
            "\n",
            "[6131 rows x 12 columns]\n"
          ]
        }
      ]
    },
    {
      "cell_type": "markdown",
      "source": [
        "# 6. Find content added in the last 5 years"
      ],
      "metadata": {
        "id": "7waH4c1B7QJN"
      }
    },
    {
      "cell_type": "code",
      "source": [
        "query_last_5_years = '''\n",
        "    SELECT *\n",
        "    FROM netflix_titles\n",
        "    WHERE date_added >= DATE('now', '-5 years')\n",
        "'''\n",
        "# Execute the query and fetch the results\n",
        "recent_content = pd.read_sql(query_last_5_years, conn)\n",
        "\n",
        "# Display the results\n",
        "print(recent_content)"
      ],
      "metadata": {
        "colab": {
          "base_uri": "https://localhost:8080/"
        },
        "id": "9kpXu7hJJjbn",
        "outputId": "97b92b40-c607-4787-de65-27e8b6c780e9"
      },
      "execution_count": null,
      "outputs": [
        {
          "output_type": "stream",
          "name": "stdout",
          "text": [
            "     show_id     type                  title                 director  \\\n",
            "0         s1    Movie   Dick Johnson Is Dead          Kirsten Johnson   \n",
            "1         s2  TV Show          Blood & Water                     None   \n",
            "2         s3  TV Show              Ganglands          Julien Leclercq   \n",
            "3         s4  TV Show  Jailbirds New Orleans                     None   \n",
            "4         s5  TV Show           Kota Factory                     None   \n",
            "...      ...      ...                    ...                      ...   \n",
            "3454   s8786  TV Show                    YOM                     None   \n",
            "3455   s8787    Movie           You Can Tutu              James Brown   \n",
            "3456   s8790    Movie    You Changed My Life      Cathy Garcia-Molina   \n",
            "3457   s8799    Movie               Zed Plus  Chandra Prakash Dwivedi   \n",
            "3458   s8802    Movie                Zinzana          Majid Al Ansari   \n",
            "\n",
            "                                                   cast  \\\n",
            "0                                                  None   \n",
            "1     Ama Qamata, Khosi Ngema, Gail Mabalane, Thaban...   \n",
            "2     Sami Bouajila, Tracy Gotoas, Samuel Jouy, Nabi...   \n",
            "3                                                  None   \n",
            "4     Mayur More, Jitendra Kumar, Ranjan Raj, Alam K...   \n",
            "...                                                 ...   \n",
            "3454  Sairaj, Devyani Dagaonkar, Ketan Singh, Mayur ...   \n",
            "3455  Lily O'Regan, Jeannettsy Enriquez Borges, Joel...   \n",
            "3456  John Lloyd Cruz, Sarah Geronimo, Rayver Cruz, ...   \n",
            "3457  Adil Hussain, Mona Singh, K.K. Raina, Sanjay M...   \n",
            "3458  Ali Suliman, Saleh Bakri, Yasa, Ali Al-Jabri, ...   \n",
            "\n",
            "                           country date_added  release_year rating   duration  \\\n",
            "0                    United States  25-Sep-21          2020  PG-13     90 min   \n",
            "1                     South Africa  24-Sep-21          2021  TV-MA  2 Seasons   \n",
            "2                             None  24-Sep-21          2021  TV-MA   1 Season   \n",
            "3                             None  24-Sep-21          2021  TV-MA   1 Season   \n",
            "4                            India  24-Sep-21          2021  TV-MA  2 Seasons   \n",
            "...                            ...        ...           ...    ...        ...   \n",
            "3454                          None   7-Jun-18          2016  TV-Y7   1 Season   \n",
            "3455                United Kingdom  31-Dec-17          2017   TV-G     87 min   \n",
            "3456                   Philippines  27-Feb-19          2009  TV-PG    116 min   \n",
            "3457                         India  31-Dec-19          2014  TV-MA    131 min   \n",
            "3458  United Arab Emirates, Jordan   9-Mar-16          2015  TV-MA     96 min   \n",
            "\n",
            "                                              listed_in  \\\n",
            "0                                         Documentaries   \n",
            "1       International TV Shows, TV Dramas, TV Mysteries   \n",
            "2     Crime TV Shows, International TV Shows, TV Act...   \n",
            "3                                Docuseries, Reality TV   \n",
            "4     International TV Shows, Romantic TV Shows, TV ...   \n",
            "...                                                 ...   \n",
            "3454                                           Kids' TV   \n",
            "3455                           Children & Family Movies   \n",
            "3456             Comedies, Dramas, International Movies   \n",
            "3457             Comedies, Dramas, International Movies   \n",
            "3458            Dramas, International Movies, Thrillers   \n",
            "\n",
            "                                            description  \n",
            "0     As her father nears the end of his life, filmm...  \n",
            "1     After crossing paths at a party, a Cape Town t...  \n",
            "2     To protect his family from a powerful drug lor...  \n",
            "3     Feuds, flirtations and toilet talk go down amo...  \n",
            "4     In a city of coaching centers known to train I...  \n",
            "...                                                 ...  \n",
            "3454  With the mind of a human being, and the body o...  \n",
            "3455  A gifted young ballet dancer struggles to find...  \n",
            "3456  Laida and Miggy think they've found perfect ha...  \n",
            "3457  A philandering small-town mechanic's political...  \n",
            "3458  Recovering alcoholic Talal wakes up inside a s...  \n",
            "\n",
            "[3459 rows x 12 columns]\n"
          ]
        }
      ]
    },
    {
      "cell_type": "markdown",
      "source": [
        "# 7. Find all the movies/TV shows by director 'Rajiv Chilaka'!"
      ],
      "metadata": {
        "id": "k6tdoGBO7M-V"
      }
    },
    {
      "cell_type": "code",
      "source": [
        "# Step 1: Load the data from the database into a pandas DataFrame\n",
        "df = pd.read_sql('SELECT * FROM netflix_titles', conn)\n",
        "\n",
        "# Step 2: Split the 'director' column by commas into lists\n",
        "df['director'] = df['director'].str.split(',')\n",
        "\n",
        "# Step 3: Explode the lists into separate rows\n",
        "df_exploded = df.explode('director')\n",
        "\n",
        "# Step 4: Trim any leading or trailing spaces\n",
        "df_exploded['director'] = df_exploded['director'].str.strip()\n",
        "\n",
        "# Step 5: Filter for the specific director name 'Rajiv Chilaka'\n",
        "filtered_df = df_exploded[df_exploded['director'] == 'Rajiv Chilaka']\n",
        "\n",
        "# Step 6: Display the result\n",
        "print(filtered_df)\n"
      ],
      "metadata": {
        "id": "Z8ZAK8Cz5QDl",
        "colab": {
          "base_uri": "https://localhost:8080/"
        },
        "outputId": "f1673b3d-434f-4c3a-c8da-666f86374e82"
      },
      "execution_count": null,
      "outputs": [
        {
          "output_type": "stream",
          "name": "stdout",
          "text": [
            "     show_id   type                                              title  \\\n",
            "406     s407  Movie                       Chhota Bheem - Neeli Pahaadi   \n",
            "407     s408  Movie                              Chhota Bheem & Ganesh   \n",
            "408     s409  Movie                 Chhota Bheem & Krishna: Mayanagari   \n",
            "409     s410  Movie  Chhota Bheem & Krishna: Pataliputra- City of t...   \n",
            "410     s411  Movie                 Chhota Bheem And The Broken Amulet   \n",
            "411     s412  Movie             Chhota Bheem And The Crown of Valhalla   \n",
            "412     s413  Movie               Chhota Bheem and the Incan Adventure   \n",
            "413     s414  Movie                Chhota Bheem and The ShiNobi Secret   \n",
            "414     s415  Movie                           Chhota Bheem Aur Hanuman   \n",
            "415     s416  Movie                           Chhota Bheem aur Krishna   \n",
            "416     s417  Movie                Chhota Bheem aur Krishna vs Zimbara   \n",
            "419     s420  Movie                      Chhota Bheem: Bheem vs Aliens   \n",
            "420     s421  Movie               Chhota Bheem: Dholakpur to Kathmandu   \n",
            "421     s422  Movie                           Chhota Bheem: Dus Pe Dus   \n",
            "422     s423  Movie                     Chhota Bheem: Journey to Petra   \n",
            "423     s424  Movie                    Chhota Bheem: Master of Shaolin   \n",
            "424     s425  Movie                  Chhota Bheem: The Rise of Kirmada   \n",
            "2717   s2718  Movie              Chhota Bheem and the Curse of Damyaan   \n",
            "2737   s2738  Movie                            Mighty Raju Rio Calling   \n",
            "6297   s6298  Movie                                          Bheemayan   \n",
            "6464   s6465  Movie                        Chhota Bheem Kungfu Dhamaka   \n",
            "6645   s6646  Movie                              Dragonkala Ka Rahasya   \n",
            "\n",
            "           director                                               cast  \\\n",
            "406   Rajiv Chilaka  Vatsal Dubey, Julie Tejwani, Rupa Bhimani, Jig...   \n",
            "407   Rajiv Chilaka  Vatsal Dubey, Julie Tejwani, Rupa Bhimani, Jig...   \n",
            "408   Rajiv Chilaka  Vatsal Dubey, Julie Tejwani, Rupa Bhimani, Jig...   \n",
            "409   Rajiv Chilaka  Vatsal Dubey, Julie Tejwani, Rupa Bhimani, Jig...   \n",
            "410   Rajiv Chilaka  Vatsal Dubey, Julie Tejwani, Rupa Bhimani, Jig...   \n",
            "411   Rajiv Chilaka  Vatsal Dubey, Julie Tejwani, Rupa Bhimani, Jig...   \n",
            "412   Rajiv Chilaka  Vatsal Dubey, Julie Tejwani, Rupa Bhimani, Jig...   \n",
            "413   Rajiv Chilaka  Vatsal Dubey, Julie Tejwani, Rupa Bhimani, Jig...   \n",
            "414   Rajiv Chilaka  Vatsal Dubey, Julie Tejwani, Rupa Bhimani, Jig...   \n",
            "415   Rajiv Chilaka  Vatsal Dubey, Julie Tejwani, Rupa Bhimani, Jig...   \n",
            "416   Rajiv Chilaka  Vatsal Dubey, Julie Tejwani, Rupa Bhimani, Jig...   \n",
            "419   Rajiv Chilaka  Vatsal Dubey, Julie Tejwani, Rupa Bhimani, Jig...   \n",
            "420   Rajiv Chilaka  Vatsal Dubey, Julie Tejwani, Rupa Bhimani, Jig...   \n",
            "421   Rajiv Chilaka  Vatsal Dubey, Julie Tejwani, Rupa Bhimani, Jig...   \n",
            "422   Rajiv Chilaka  Vatsal Dubey, Julie Tejwani, Rupa Bhimani, Jig...   \n",
            "423   Rajiv Chilaka  Pooja Punabi, Mausam, Julie Tejwani, Rupa Bhim...   \n",
            "424   Rajiv Chilaka  Vatsal Dubey, Julie Tejwani, Rupa Bhimani, Jig...   \n",
            "2717  Rajiv Chilaka  Kaustav Ghosh, Jigna Bhardwaj, Chutki, Rajesh ...   \n",
            "2737  Rajiv Chilaka                                               None   \n",
            "6297  Rajiv Chilaka                                               None   \n",
            "6464  Rajiv Chilaka  Sonal Kaushal, Rupa Bhimani, Jigna Bharadhwaj,...   \n",
            "6645  Rajiv Chilaka                                               None   \n",
            "\n",
            "     country date_added  release_year rating duration  \\\n",
            "406     None  22-Jul-21          2013  TV-Y7   64 min   \n",
            "407     None  22-Jul-21          2009  TV-Y7   68 min   \n",
            "408     None  22-Jul-21          2011  TV-Y7   67 min   \n",
            "409     None  22-Jul-21          2010  TV-Y7   66 min   \n",
            "410    India  22-Jul-21          2013  TV-Y7   64 min   \n",
            "411     None  22-Jul-21          2013  TV-Y7   64 min   \n",
            "412     None  22-Jul-21          2013  TV-Y7   65 min   \n",
            "413     None  22-Jul-21          2013  TV-Y7   64 min   \n",
            "414     None  22-Jul-21          2012  TV-Y7   68 min   \n",
            "415    India  22-Jul-21          2009  TV-Y7   68 min   \n",
            "416     None  22-Jul-21          2013  TV-Y7   64 min   \n",
            "419     None  22-Jul-21          2010  TV-Y7   69 min   \n",
            "420     None  22-Jul-21          2012  TV-Y7   70 min   \n",
            "421     None  22-Jul-21          2014  TV-Y7   63 min   \n",
            "422     None  22-Jul-21          2011  TV-Y7   68 min   \n",
            "423     None  22-Jul-21          2011  TV-Y7   74 min   \n",
            "424     None  22-Jul-21          2012  TV-Y7   68 min   \n",
            "2717   India   1-Apr-20          2012  TV-Y7   87 min   \n",
            "2737   India   1-Apr-20          2014  TV-Y7   97 min   \n",
            "6297    None  10-May-19          2018   TV-Y   63 min   \n",
            "6464   India  15-Aug-19          2019  TV-Y7  112 min   \n",
            "6645    None  18-Jun-19          2018   TV-Y   68 min   \n",
            "\n",
            "                                    listed_in  \\\n",
            "406                  Children & Family Movies   \n",
            "407                  Children & Family Movies   \n",
            "408                  Children & Family Movies   \n",
            "409                  Children & Family Movies   \n",
            "410                  Children & Family Movies   \n",
            "411                  Children & Family Movies   \n",
            "412                  Children & Family Movies   \n",
            "413                  Children & Family Movies   \n",
            "414                  Children & Family Movies   \n",
            "415                  Children & Family Movies   \n",
            "416                  Children & Family Movies   \n",
            "419   Children & Family Movies, Sports Movies   \n",
            "420                  Children & Family Movies   \n",
            "421                  Children & Family Movies   \n",
            "422                  Children & Family Movies   \n",
            "423                  Children & Family Movies   \n",
            "424                  Children & Family Movies   \n",
            "2717                 Children & Family Movies   \n",
            "2737  Children & Family Movies, Sports Movies   \n",
            "6297                 Children & Family Movies   \n",
            "6464                 Children & Family Movies   \n",
            "6645                 Children & Family Movies   \n",
            "\n",
            "                                            description  \n",
            "406   Things get spooky when Bheem and his buddies t...  \n",
            "407   Bheem and Lord Ganesha join forces to save Dho...  \n",
            "408   Young lord Krishna has fallen for demoness Maa...  \n",
            "409   Krishna needs Bheem’s help: The ruined city of...  \n",
            "410   When a stranger tries to steal an amulet from ...  \n",
            "411   To save the kingdom of Valhalla from invasion ...  \n",
            "412   When Dholakpur’s princess is kidnapped, Bheem ...  \n",
            "413   After learning of a samurai village under thre...  \n",
            "414   When two evil entities kidnap a princess in a ...  \n",
            "415   Centuries after the end of a conqueror's rule,...  \n",
            "416   A demon of darkness is plotting world dominati...  \n",
            "419   Space invaders have kidnapped Dholakpur’s king...  \n",
            "420   Bheem’s holiday in Nepal takes an unexpected t...  \n",
            "421   After a precious temple stone is stolen under ...  \n",
            "422   The king has been away to meet an old friend, ...  \n",
            "423   Summoned by a monk to help reclaim a temple fr...  \n",
            "424   Bheem and young lord Krishna team up to protec...  \n",
            "2717  An evil demon who traded his freedom for immor...  \n",
            "2737  Mighty Raju preps for a new adventure in Rio d...  \n",
            "6297  It's Diwali! To celebrate, Chhota Bheem and hi...  \n",
            "6464  Chhota Bheem is in China for a martial arts co...  \n",
            "6645  Bheem helps to reopen Dragonpur's abandoned ma...  \n"
          ]
        }
      ]
    },
    {
      "cell_type": "markdown",
      "source": [
        "# 8. List all TV shows with more than 5 seasons\n"
      ],
      "metadata": {
        "id": "4AF9B89R7I-B"
      }
    },
    {
      "cell_type": "code",
      "source": [
        "query_8 = '''\n",
        "    SELECT *\n",
        "    FROM netflix_titles\n",
        "    WHERE\n",
        "        type = 'TV Show'\n",
        "        AND CAST(SUBSTR(duration, 1, INSTR(duration, ' ') - 1) AS INTEGER) > 5\n",
        "'''\n",
        "\n",
        "# Execute the query and display the result\n",
        "tv_shows = pd.read_sql(query_8, conn)\n",
        "print(tv_shows)"
      ],
      "metadata": {
        "id": "M-7s5dDU5QGc",
        "colab": {
          "base_uri": "https://localhost:8080/"
        },
        "outputId": "6f8d8f8d-aa77-4ebb-b881-fdfee85d559f"
      },
      "execution_count": null,
      "outputs": [
        {
          "output_type": "stream",
          "name": "stdout",
          "text": [
            "   show_id     type                          title         director  \\\n",
            "0       s9  TV Show  The Great British Baking Show  Andy Devonshire   \n",
            "1      s56  TV Show                      Nailed It             None   \n",
            "2      s66  TV Show                   Numberblocks             None   \n",
            "3      s68  TV Show              Saved by the Bell             None   \n",
            "4      s83  TV Show                        Lucifer             None   \n",
            "..     ...      ...                            ...              ...   \n",
            "94   s8190  TV Show         The Andy Griffith Show             None   \n",
            "95   s8379  TV Show                     The L Word             None   \n",
            "96   s8443  TV Show              The Office (U.S.)             None   \n",
            "97   s8558  TV Show                  The West Wing             None   \n",
            "98   s8711  TV Show                          Weeds             None   \n",
            "\n",
            "                                                 cast                country  \\\n",
            "0   Mel Giedroyc, Sue Perkins, Mary Berry, Paul Ho...         United Kingdom   \n",
            "1                         Nicole Byer, Jacques Torres          United States   \n",
            "2   Beth Chalmers, David Holt, Marcel McCalla, Ter...         United Kingdom   \n",
            "3   Mark-Paul Gosselaar, Tiffani Thiessen, Mario L...          United States   \n",
            "4   Tom Ellis, Lauren German, Kevin Alejandro, D.B...          United States   \n",
            "..                                                ...                    ...   \n",
            "94  Andy Griffith, Ron Howard, Don Knotts, Frances...          United States   \n",
            "95  Jennifer Beals, Leisha Hailey, Laurel Holloman...  Canada, United States   \n",
            "96  Steve Carell, John Krasinski, Jenna Fischer, R...          United States   \n",
            "97  Martin Sheen, Rob Lowe, Allison Janney, John S...          United States   \n",
            "98  Mary-Louise Parker, Hunter Parrish, Alexander ...          United States   \n",
            "\n",
            "            date_added  release_year rating   duration  \\\n",
            "0            24-Sep-21          2021  TV-14  9 Seasons   \n",
            "1            15-Sep-21          2021  TV-PG  6 Seasons   \n",
            "2            15-Sep-21          2021   TV-Y  6 Seasons   \n",
            "3            15-Sep-21          1994  TV-PG  9 Seasons   \n",
            "4            10-Sep-21          2021  TV-14  6 Seasons   \n",
            "..                 ...           ...    ...        ...   \n",
            "94        July 1, 2017          1967   TV-G  8 Seasons   \n",
            "95      March 20, 2018          2009  TV-MA  6 Seasons   \n",
            "96     January 1, 2016          2012  TV-14  9 Seasons   \n",
            "97   December 25, 2015          2005  TV-14  7 Seasons   \n",
            "98            1-Apr-14          2012  TV-MA  8 Seasons   \n",
            "\n",
            "                                 listed_in  \\\n",
            "0             British TV Shows, Reality TV   \n",
            "1                               Reality TV   \n",
            "2                                 Kids' TV   \n",
            "3                    Kids' TV, TV Comedies   \n",
            "4   Crime TV Shows, TV Comedies, TV Dramas   \n",
            "..                                     ...   \n",
            "94          Classic & Cult TV, TV Comedies   \n",
            "95            Romantic TV Shows, TV Dramas   \n",
            "96                             TV Comedies   \n",
            "97                               TV Dramas   \n",
            "98                  TV Comedies, TV Dramas   \n",
            "\n",
            "                                          description  \n",
            "0   A talented batch of amateur bakers face off in...  \n",
            "1   Home bakers with a terrible track record take ...  \n",
            "2   In a place called Numberland, math adds up to ...  \n",
            "3   From middle school to college, best friends Za...  \n",
            "4   Bored with being the Lord of Hell, the devil r...  \n",
            "..                                                ...  \n",
            "94  Homespun humor and easygoing Sheriff Andy Tayl...  \n",
            "95  This trailblazing series follows the tangled l...  \n",
            "96  This hit comedy chronicles the foibles of disg...  \n",
            "97  This powerful political epic chronicles the tr...  \n",
            "98  A suburban mother starts selling marijuana to ...  \n",
            "\n",
            "[99 rows x 12 columns]\n"
          ]
        }
      ]
    },
    {
      "cell_type": "markdown",
      "source": [
        "# 9. Count the number of content items in each genre\n"
      ],
      "metadata": {
        "id": "zl4GKDzF7FdJ"
      }
    },
    {
      "cell_type": "code",
      "source": [
        "query_9 = '''\n",
        "WITH RECURSIVE split_genres AS (\n",
        "    SELECT\n",
        "        TRIM(SUBSTR(listed_in, 1, INSTR(listed_in || ',', ',') - 1)) AS genre,\n",
        "        SUBSTR(listed_in, INSTR(listed_in || ',', ',') + 1) AS remaining\n",
        "    FROM netflix_titles\n",
        "\n",
        "    UNION ALL\n",
        "\n",
        "    SELECT\n",
        "        TRIM(SUBSTR(remaining, 1, INSTR(remaining || ',', ',') - 1)),\n",
        "        SUBSTR(remaining, INSTR(remaining || ',', ',') + 1)\n",
        "    FROM split_genres\n",
        "    WHERE remaining <> ''\n",
        ")\n",
        "\n",
        "SELECT genre, COUNT(*) AS total_content\n",
        "FROM split_genres\n",
        "GROUP BY genre\n",
        "'''\n",
        "\n",
        "# Execute the query and display the result\n",
        "genre_counts = pd.read_sql(query_9, conn)\n",
        "print(genre_counts)\n"
      ],
      "metadata": {
        "id": "LOJXQ_U95QJq",
        "colab": {
          "base_uri": "https://localhost:8080/"
        },
        "outputId": "6304fbb5-f389-4ade-cd4e-dac75efa1997"
      },
      "execution_count": null,
      "outputs": [
        {
          "output_type": "stream",
          "name": "stdout",
          "text": [
            "                           genre  total_content\n",
            "0             Action & Adventure            859\n",
            "1                 Anime Features             71\n",
            "2                   Anime Series            176\n",
            "3               British TV Shows            253\n",
            "4       Children & Family Movies            641\n",
            "5              Classic & Cult TV             28\n",
            "6                 Classic Movies            116\n",
            "7                       Comedies           1674\n",
            "8                 Crime TV Shows            470\n",
            "9                    Cult Movies             71\n",
            "10                 Documentaries            869\n",
            "11                    Docuseries            395\n",
            "12                        Dramas           2427\n",
            "13          Faith & Spirituality             65\n",
            "14                 Horror Movies            357\n",
            "15            Independent Movies            756\n",
            "16          International Movies           2752\n",
            "17        International TV Shows           1351\n",
            "18                      Kids' TV            451\n",
            "19               Korean TV Shows            151\n",
            "20                  LGBTQ Movies            102\n",
            "21                        Movies             57\n",
            "22              Music & Musicals            375\n",
            "23                    Reality TV            255\n",
            "24               Romantic Movies            616\n",
            "25             Romantic TV Shows            370\n",
            "26              Sci-Fi & Fantasy            243\n",
            "27           Science & Nature TV             92\n",
            "28     Spanish-Language TV Shows            174\n",
            "29                 Sports Movies            219\n",
            "30               Stand-Up Comedy            343\n",
            "31  Stand-Up Comedy & Talk Shows             56\n",
            "32         TV Action & Adventure            168\n",
            "33                   TV Comedies            581\n",
            "34                     TV Dramas            763\n",
            "35                     TV Horror             75\n",
            "36                  TV Mysteries             98\n",
            "37           TV Sci-Fi & Fantasy             84\n",
            "38                      TV Shows             16\n",
            "39                  TV Thrillers             57\n",
            "40                 Teen TV Shows             69\n",
            "41                     Thrillers            577\n"
          ]
        }
      ]
    },
    {
      "cell_type": "markdown",
      "source": [
        "# 10. Find each year and the average numbers of content release by India on netflix. Return top 5 year with highest avg content release !\n"
      ],
      "metadata": {
        "id": "iPCvY6_P7AdQ"
      }
    },
    {
      "cell_type": "code",
      "source": [
        "query_10 = '''\n",
        "SELECT\n",
        "    country,\n",
        "    release_year,\n",
        "    COUNT(show_id) AS total_release,\n",
        "    ROUND(\n",
        "        COUNT(show_id) * 1.0 /\n",
        "        (SELECT COUNT(show_id) FROM netflix_titles WHERE country = 'India') * 100,\n",
        "        2\n",
        "    ) AS avg_release\n",
        "FROM netflix_titles\n",
        "WHERE country = 'India'\n",
        "GROUP BY country, release_year\n",
        "ORDER BY avg_release DESC\n",
        "LIMIT 5\n",
        "'''\n",
        "\n",
        "# Execute the query and display the result\n",
        "result_10 = pd.read_sql(query_10, conn)\n",
        "print(result_10)\n"
      ],
      "metadata": {
        "id": "urhHk2A75QMt",
        "colab": {
          "base_uri": "https://localhost:8080/"
        },
        "outputId": "3454473d-e000-4ebd-a8ee-60b46342d53b"
      },
      "execution_count": null,
      "outputs": [
        {
          "output_type": "stream",
          "name": "stdout",
          "text": [
            "  country  release_year  total_release  avg_release\n",
            "0   India          2017            101        10.39\n",
            "1   India          2018             94         9.67\n",
            "2   India          2019             87         8.95\n",
            "3   India          2020             75         7.72\n",
            "4   India          2016             73         7.51\n"
          ]
        }
      ]
    },
    {
      "cell_type": "markdown",
      "source": [
        "# 11. List all movies that are documentaries"
      ],
      "metadata": {
        "id": "rFAkqQVP675M"
      }
    },
    {
      "cell_type": "code",
      "source": [
        "query_11 = '''\n",
        "    SELECT * FROM netflix_titles\n",
        "    WHERE listed_in LIKE '%Documentaries'\n",
        "'''\n",
        "\n",
        "result_11 = pd.read_sql(query_11, conn)\n",
        "print(result_11)"
      ],
      "metadata": {
        "id": "Ty1l-oEd5QPq",
        "colab": {
          "base_uri": "https://localhost:8080/"
        },
        "outputId": "8dc8bcaf-0c11-4b32-d30f-8543a0ea4154"
      },
      "execution_count": null,
      "outputs": [
        {
          "output_type": "stream",
          "name": "stdout",
          "text": [
            "    show_id   type                                        title  \\\n",
            "0        s1  Movie                         Dick Johnson Is Dead   \n",
            "1       s46  Movie                       My Heroes Were Cowboys   \n",
            "2      s118  Movie                                Final Account   \n",
            "3      s222  Movie  Bob Ross: Happy Accidents, Betrayal & Greed   \n",
            "4      s305  Movie          Lady Boss: The Jackie Collins Story   \n",
            "..      ...    ...                                          ...   \n",
            "378   s8724  Movie                     What Makes a Psychopath?   \n",
            "379   s8738  Movie                   Why Are We Getting So Fat?   \n",
            "380   s8739  Movie                                     Why Knot   \n",
            "381   s8740  Movie           Why We Fight: The Battle of Russia   \n",
            "382   s8764  Movie              WWII: Report from the Aleutians   \n",
            "\n",
            "                                   director            cast  \\\n",
            "0                           Kirsten Johnson            None   \n",
            "1                               Tyler Greco            None   \n",
            "2                              Luke Holland            None   \n",
            "3                               Joshua Rofé        Bob Ross   \n",
            "4                             Laura Fairrie  Jackie Collins   \n",
            "..                                      ...             ...   \n",
            "378                        Rebecca Harrison            None   \n",
            "379  Milla Harrison-Hansley, Alicky Sussman       Giles Yeo   \n",
            "380                            Dhruv Dhawan            None   \n",
            "381             Frank Capra, Anatole Litvak            None   \n",
            "382                             John Huston            None   \n",
            "\n",
            "                                               country date_added  \\\n",
            "0                                        United States  25-Sep-21   \n",
            "1                                                 None  16-Sep-21   \n",
            "2                        United Kingdom, United States   2-Sep-21   \n",
            "3                                                 None  25-Aug-21   \n",
            "4                                       United Kingdom   5-Aug-21   \n",
            "..                                                 ...        ...   \n",
            "378                                     United Kingdom   1-Feb-19   \n",
            "379                                     United Kingdom   1-Feb-19   \n",
            "380  Canada, India, Thailand, United States, United...  15-Oct-17   \n",
            "381                                      United States  31-Mar-17   \n",
            "382                                      United States  31-Mar-17   \n",
            "\n",
            "     release_year rating duration      listed_in  \\\n",
            "0            2020  PG-13   90 min  Documentaries   \n",
            "1            2021     PG   23 min  Documentaries   \n",
            "2            2021  PG-13   94 min  Documentaries   \n",
            "3            2021  TV-14   93 min  Documentaries   \n",
            "4            2021  TV-14   97 min  Documentaries   \n",
            "..            ...    ...      ...            ...   \n",
            "378          2017  TV-14   52 min  Documentaries   \n",
            "379          2016  TV-14   50 min  Documentaries   \n",
            "380          2016  TV-MA   84 min  Documentaries   \n",
            "381          1943  TV-PG   82 min  Documentaries   \n",
            "382          1943  TV-PG   45 min  Documentaries   \n",
            "\n",
            "                                           description  \n",
            "0    As her father nears the end of his life, filmm...  \n",
            "1    Robin Wiltshire's painful childhood was rescue...  \n",
            "2    This documentary stitches together never-befor...  \n",
            "3    Bob Ross brought joy to millions as the world’...  \n",
            "4    \"Queen of Sleaze\" or feminist pioneer? Powerho...  \n",
            "..                                                 ...  \n",
            "378  This wide-ranging documentary examines the beh...  \n",
            "379  A Cambridge geneticist dispels misconceptions ...  \n",
            "380  Pressured by his traditional family to marry, ...  \n",
            "381  This installment of Frank Capra's acclaimed do...  \n",
            "382  Filmmaker John Huston narrates this Oscar-nomi...  \n",
            "\n",
            "[383 rows x 12 columns]\n"
          ]
        }
      ]
    },
    {
      "cell_type": "markdown",
      "source": [
        "# 12. Find all content without a director"
      ],
      "metadata": {
        "id": "AivpC14j638_"
      }
    },
    {
      "cell_type": "code",
      "source": [
        "query_12 = '''\n",
        "    SELECT * FROM netflix_titles\n",
        "WHERE director IS NULL\n",
        "\n",
        "'''\n",
        "\n",
        "result_12 = pd.read_sql(query_12, conn)\n",
        "print(result_12)"
      ],
      "metadata": {
        "id": "rE8-kIBd6C6H",
        "colab": {
          "base_uri": "https://localhost:8080/"
        },
        "outputId": "d71a0fc1-e540-4feb-9083-ecab4b7b52de"
      },
      "execution_count": null,
      "outputs": [
        {
          "output_type": "stream",
          "name": "stdout",
          "text": [
            "     show_id     type                                title director  \\\n",
            "0         s2  TV Show                        Blood & Water     None   \n",
            "1         s4  TV Show                Jailbirds New Orleans     None   \n",
            "2         s5  TV Show                         Kota Factory     None   \n",
            "3        s11  TV Show  Vendetta: Truth, Lies and The Mafia     None   \n",
            "4        s15  TV Show      Crime Stories: India Detectives     None   \n",
            "...      ...      ...                                  ...      ...   \n",
            "2629   s8796  TV Show                      Yu-Gi-Oh! Arc-V     None   \n",
            "2630   s8797  TV Show                           Yunus Emre     None   \n",
            "2631   s8798  TV Show                            Zak Storm     None   \n",
            "2632   s8801  TV Show                   Zindagi Gulzar Hai     None   \n",
            "2633   s8804  TV Show                          Zombie Dumb     None   \n",
            "\n",
            "                                                   cast  \\\n",
            "0     Ama Qamata, Khosi Ngema, Gail Mabalane, Thaban...   \n",
            "1                                                  None   \n",
            "2     Mayur More, Jitendra Kumar, Ranjan Raj, Alam K...   \n",
            "3                                                  None   \n",
            "4                                                  None   \n",
            "...                                                 ...   \n",
            "2629  Mike Liscio, Emily Bauer, Billy Bob Thompson, ...   \n",
            "2630  Gökhan Atalay, Payidar Tüfekçioglu, Baran Akbu...   \n",
            "2631  Michael Johnston, Jessica Gee-George, Christin...   \n",
            "2632  Sanam Saeed, Fawad Khan, Ayesha Omer, Mehreen ...   \n",
            "2633                                               None   \n",
            "\n",
            "                                            country date_added  release_year  \\\n",
            "0                                      South Africa  24-Sep-21          2021   \n",
            "1                                              None  24-Sep-21          2021   \n",
            "2                                             India  24-Sep-21          2021   \n",
            "3                                              None  24-Sep-21          2021   \n",
            "4                                              None  22-Sep-21          2021   \n",
            "...                                             ...        ...           ...   \n",
            "2629                                  Japan, Canada   1-May-18          2015   \n",
            "2630                                         Turkey  17-Jan-17          2016   \n",
            "2631  United States, France, South Korea, Indonesia  13-Sep-18          2016   \n",
            "2632                                       Pakistan  15-Dec-16          2012   \n",
            "2633                                           None   1-Jul-19          2018   \n",
            "\n",
            "     rating   duration                                          listed_in  \\\n",
            "0     TV-MA  2 Seasons    International TV Shows, TV Dramas, TV Mysteries   \n",
            "1     TV-MA   1 Season                             Docuseries, Reality TV   \n",
            "2     TV-MA  2 Seasons  International TV Shows, Romantic TV Shows, TV ...   \n",
            "3     TV-MA   1 Season  Crime TV Shows, Docuseries, International TV S...   \n",
            "4     TV-MA   1 Season       British TV Shows, Crime TV Shows, Docuseries   \n",
            "...     ...        ...                                                ...   \n",
            "2629  TV-Y7  2 Seasons                             Anime Series, Kids' TV   \n",
            "2630  TV-PG  2 Seasons                  International TV Shows, TV Dramas   \n",
            "2631  TV-Y7  3 Seasons                                           Kids' TV   \n",
            "2632  TV-PG   1 Season  International TV Shows, Romantic TV Shows, TV ...   \n",
            "2633  TV-Y7  2 Seasons             Kids' TV, Korean TV Shows, TV Comedies   \n",
            "\n",
            "                                            description  \n",
            "0     After crossing paths at a party, a Cape Town t...  \n",
            "1     Feuds, flirtations and toilet talk go down amo...  \n",
            "2     In a city of coaching centers known to train I...  \n",
            "3     Sicily boasts a bold \"Anti-Mafia\" coalition. B...  \n",
            "4     Cameras following Bengaluru police on the job ...  \n",
            "...                                                 ...  \n",
            "2629  Now that he's discovered the Pendulum Summonin...  \n",
            "2630  During the Mongol invasions, Yunus Emre leaves...  \n",
            "2631  Teen surfer Zak Storm is mysteriously transpor...  \n",
            "2632  Strong-willed, middle-class Kashaf and carefre...  \n",
            "2633  While living alone in a spooky town, a young g...  \n",
            "\n",
            "[2634 rows x 12 columns]\n"
          ]
        }
      ]
    },
    {
      "cell_type": "markdown",
      "source": [
        "# 13. Find how many movies actor 'Salman Khan' appeared in last 10 years!\n"
      ],
      "metadata": {
        "id": "7X41UwEx60op"
      }
    },
    {
      "cell_type": "code",
      "source": [
        "query_13 = '''\n",
        "SELECT *\n",
        "FROM netflix_titles\n",
        "WHERE\n",
        "    \"cast\" LIKE '%Salman Khan%'\n",
        "    AND release_year > strftime('%Y', 'now', '-10 years')\n",
        "'''\n",
        "\n",
        "# Execute the query and display the result\n",
        "result_13 = pd.read_sql(query_13, conn)\n",
        "print(result_13)\n"
      ],
      "metadata": {
        "id": "rhmfKgz66C9H",
        "colab": {
          "base_uri": "https://localhost:8080/"
        },
        "outputId": "b638cd60-77ba-4669-8624-f4754145d9cb"
      },
      "execution_count": null,
      "outputs": [
        {
          "output_type": "stream",
          "name": "stdout",
          "text": [
            "  show_id   type                 title             director  \\\n",
            "0   s2340  Movie  Prem Ratan Dhan Payo   Sooraj R. Barjatya   \n",
            "1   s2757  Movie             Paharganj  Rakesh Ranjan Kumar   \n",
            "\n",
            "                                                cast country date_added  \\\n",
            "0  Salman Khan, Sonam Kapoor, Anupam Kher, Neil N...   India  25-Jun-20   \n",
            "1  Lorena Franco, Bijesh Jayarajan, Neet Chowdhar...   India  31-Mar-20   \n",
            "\n",
            "   release_year rating duration  \\\n",
            "0          2015  TV-14  164 min   \n",
            "1          2019  TV-MA  107 min   \n",
            "\n",
            "                                          listed_in  \\\n",
            "0  Action & Adventure, Dramas, International Movies   \n",
            "1  Dramas, Independent Movies, International Movies   \n",
            "\n",
            "                                         description  \n",
            "0  While recovering from an assassination attempt...  \n",
            "1  In the underbelly of a Delhi neighborhood, a w...  \n"
          ]
        }
      ]
    },
    {
      "cell_type": "markdown",
      "source": [
        "# 14. Find the top 10 actors who have appeared in the highest number of movies produced in India.\n"
      ],
      "metadata": {
        "id": "hm_dDcvX6s0Y"
      }
    },
    {
      "cell_type": "code",
      "source": [
        "import pandas as pd\n",
        "\n",
        "# Assuming 'df' is your DataFrame with the Netflix dataset\n",
        "# Filter for Indian movies\n",
        "india_movies = df[df['country'] == 'India']\n",
        "\n",
        "# Split the cast column and explode to get individual actors\n",
        "top_actors = india_movies['cast'].str.split(', ').explode()\n",
        "\n",
        "# Count the occurrences of each actor\n",
        "top_actors_count = top_actors.value_counts().head(10)\n",
        "\n",
        "# Display the results\n",
        "print(top_actors_count)\n"
      ],
      "metadata": {
        "id": "KLHz9CLl6C_7",
        "colab": {
          "base_uri": "https://localhost:8080/"
        },
        "outputId": "ed1d3b7e-3d99-4221-a678-ace8745b5b6d"
      },
      "execution_count": null,
      "outputs": [
        {
          "output_type": "stream",
          "name": "stdout",
          "text": [
            "cast\n",
            "Anupam Kher         40\n",
            "Shah Rukh Khan      32\n",
            "Naseeruddin Shah    29\n",
            "Amitabh Bachchan    28\n",
            "Akshay Kumar        28\n",
            "Paresh Rawal        27\n",
            "Om Puri             26\n",
            "Kareena Kapoor      24\n",
            "Boman Irani         23\n",
            "Ajay Devgn          20\n",
            "Name: count, dtype: int64\n"
          ]
        }
      ]
    },
    {
      "cell_type": "markdown",
      "source": [
        "# Question 15:\n",
        "Categorize the content based on the presence of the keywords 'kill' and 'violence' in\n",
        "the description field. Label content containing these keywords as 'Bad' and all other\n",
        "content as 'Good'. Count how many items fall into each category."
      ],
      "metadata": {
        "id": "KBqklM9q6pwG"
      }
    },
    {
      "cell_type": "code",
      "source": [
        "query_15 = '''\n",
        "    SELECT\n",
        "        category,\n",
        "        type,\n",
        "        COUNT(*) AS content_count\n",
        "    FROM (\n",
        "        SELECT\n",
        "            *,\n",
        "            CASE\n",
        "                WHEN description LIKE '%kill%' OR description LIKE '%violence%' THEN 'Bad'\n",
        "                ELSE 'Good'\n",
        "            END AS category\n",
        "        FROM netflix_titles\n",
        "    ) AS categorized_content\n",
        "    GROUP BY category, type\n",
        "    ORDER BY type;\n",
        "'''\n",
        "# Execute the query and fetch the results\n",
        "content_categories = pd.read_sql(query_15, conn)\n",
        "\n",
        "# Display the results\n",
        "print(content_categories)\n"
      ],
      "metadata": {
        "id": "jN4oR5nl6DC_",
        "colab": {
          "base_uri": "https://localhost:8080/"
        },
        "outputId": "dfc83e76-c2db-4592-c6be-afc7da5fe06c"
      },
      "execution_count": null,
      "outputs": [
        {
          "output_type": "stream",
          "name": "stdout",
          "text": [
            "  category     type  content_count\n",
            "0      Bad    Movie            251\n",
            "1     Good    Movie           5880\n",
            "2      Bad  TV Show             91\n",
            "3     Good  TV Show           2585\n"
          ]
        }
      ]
    },
    {
      "cell_type": "code",
      "source": [],
      "metadata": {
        "id": "4FpQvtps6DFp"
      },
      "execution_count": null,
      "outputs": []
    }
  ]
}